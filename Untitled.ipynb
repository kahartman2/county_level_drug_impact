{
 "cells": [
  {
   "cell_type": "code",
   "execution_count": 1,
   "metadata": {},
   "outputs": [],
   "source": [
    "import pandas as pd"
   ]
  },
  {
   "cell_type": "code",
   "execution_count": 9,
   "metadata": {},
   "outputs": [],
   "source": [
    "merged_data = pd.read_csv('merged_data.csv')"
   ]
  },
  {
   "cell_type": "code",
   "execution_count": 10,
   "metadata": {},
   "outputs": [
    {
     "data": {
      "text/html": [
       "<div>\n",
       "<style scoped>\n",
       "    .dataframe tbody tr th:only-of-type {\n",
       "        vertical-align: middle;\n",
       "    }\n",
       "\n",
       "    .dataframe tbody tr th {\n",
       "        vertical-align: top;\n",
       "    }\n",
       "\n",
       "    .dataframe thead th {\n",
       "        text-align: right;\n",
       "    }\n",
       "</style>\n",
       "<table border=\"1\" class=\"dataframe\">\n",
       "  <thead>\n",
       "    <tr style=\"text-align: right;\">\n",
       "      <th></th>\n",
       "      <th>Unnamed: 0</th>\n",
       "      <th>index</th>\n",
       "      <th>population</th>\n",
       "      <th>rate_avg</th>\n",
       "      <th>prescriptions_per_100</th>\n",
       "      <th>uninsured_2015</th>\n",
       "      <th>uninsured_2016</th>\n",
       "      <th>uninsured_2017</th>\n",
       "      <th>population_estimate</th>\n",
       "      <th>Pop &lt;5</th>\n",
       "      <th>...</th>\n",
       "      <th>median_student_loan_debt</th>\n",
       "      <th>share_with_auto_debt</th>\n",
       "      <th>share_with_auto_or_retail_debt</th>\n",
       "      <th>auto_retail_debt_delinquency_rate</th>\n",
       "      <th>Medicinal</th>\n",
       "      <th>Decriminalized</th>\n",
       "      <th>State Laws</th>\n",
       "      <th>Republican/lean Rep.</th>\n",
       "      <th>No lean</th>\n",
       "      <th>Democrat/lean Dem.</th>\n",
       "    </tr>\n",
       "  </thead>\n",
       "  <tbody>\n",
       "    <tr>\n",
       "      <th>0</th>\n",
       "      <td>0</td>\n",
       "      <td>Autauga County, AL</td>\n",
       "      <td>55,416</td>\n",
       "      <td>10.95</td>\n",
       "      <td>129.6</td>\n",
       "      <td>0.128</td>\n",
       "      <td>0.134</td>\n",
       "      <td>0.110</td>\n",
       "      <td>55049.0</td>\n",
       "      <td>5.8</td>\n",
       "      <td>...</td>\n",
       "      <td>19441</td>\n",
       "      <td>0.27</td>\n",
       "      <td>0.35</td>\n",
       "      <td>0.09</td>\n",
       "      <td>No</td>\n",
       "      <td>No</td>\n",
       "      <td>View State Laws</td>\n",
       "      <td>52%</td>\n",
       "      <td>13%</td>\n",
       "      <td>35%</td>\n",
       "    </tr>\n",
       "    <tr>\n",
       "      <th>1</th>\n",
       "      <td>1</td>\n",
       "      <td>Baldwin County, AL</td>\n",
       "      <td>208,563</td>\n",
       "      <td>20.95</td>\n",
       "      <td>123.8</td>\n",
       "      <td>0.158</td>\n",
       "      <td>0.175</td>\n",
       "      <td>0.161</td>\n",
       "      <td>199510.0</td>\n",
       "      <td>5.7</td>\n",
       "      <td>...</td>\n",
       "      <td>13964</td>\n",
       "      <td>0.33</td>\n",
       "      <td>0.39</td>\n",
       "      <td>0.05</td>\n",
       "      <td>No</td>\n",
       "      <td>No</td>\n",
       "      <td>View State Laws</td>\n",
       "      <td>52%</td>\n",
       "      <td>13%</td>\n",
       "      <td>35%</td>\n",
       "    </tr>\n",
       "    <tr>\n",
       "      <th>2</th>\n",
       "      <td>2</td>\n",
       "      <td>Barbour County, AL</td>\n",
       "      <td>25,965</td>\n",
       "      <td>6.95</td>\n",
       "      <td>92.7</td>\n",
       "      <td>0.175</td>\n",
       "      <td>0.174</td>\n",
       "      <td>0.153</td>\n",
       "      <td>26614.0</td>\n",
       "      <td>5.5</td>\n",
       "      <td>...</td>\n",
       "      <td>n/a*</td>\n",
       "      <td>0.26</td>\n",
       "      <td>0.38</td>\n",
       "      <td>0.19</td>\n",
       "      <td>No</td>\n",
       "      <td>No</td>\n",
       "      <td>View State Laws</td>\n",
       "      <td>52%</td>\n",
       "      <td>13%</td>\n",
       "      <td>35%</td>\n",
       "    </tr>\n",
       "    <tr>\n",
       "      <th>3</th>\n",
       "      <td>3</td>\n",
       "      <td>Bibb County, AL</td>\n",
       "      <td>22,643</td>\n",
       "      <td>16.95</td>\n",
       "      <td>97.2</td>\n",
       "      <td>0.151</td>\n",
       "      <td>0.150</td>\n",
       "      <td>0.136</td>\n",
       "      <td>22572.0</td>\n",
       "      <td>5.1</td>\n",
       "      <td>...</td>\n",
       "      <td>n/a*</td>\n",
       "      <td>0.31</td>\n",
       "      <td>0.4</td>\n",
       "      <td>0.12</td>\n",
       "      <td>No</td>\n",
       "      <td>No</td>\n",
       "      <td>View State Laws</td>\n",
       "      <td>52%</td>\n",
       "      <td>13%</td>\n",
       "      <td>35%</td>\n",
       "    </tr>\n",
       "    <tr>\n",
       "      <th>4</th>\n",
       "      <td>4</td>\n",
       "      <td>Blount County, AL</td>\n",
       "      <td>57,704</td>\n",
       "      <td>16.95</td>\n",
       "      <td>56.9</td>\n",
       "      <td>0.183</td>\n",
       "      <td>0.176</td>\n",
       "      <td>0.165</td>\n",
       "      <td>57704.0</td>\n",
       "      <td>6.1</td>\n",
       "      <td>...</td>\n",
       "      <td>11128</td>\n",
       "      <td>0.28</td>\n",
       "      <td>0.37</td>\n",
       "      <td>0.07</td>\n",
       "      <td>No</td>\n",
       "      <td>No</td>\n",
       "      <td>View State Laws</td>\n",
       "      <td>52%</td>\n",
       "      <td>13%</td>\n",
       "      <td>35%</td>\n",
       "    </tr>\n",
       "  </tbody>\n",
       "</table>\n",
       "<p>5 rows × 66 columns</p>\n",
       "</div>"
      ],
      "text/plain": [
       "   Unnamed: 0               index population  rate_avg  prescriptions_per_100  \\\n",
       "0           0  Autauga County, AL     55,416     10.95                  129.6   \n",
       "1           1  Baldwin County, AL    208,563     20.95                  123.8   \n",
       "2           2  Barbour County, AL     25,965      6.95                   92.7   \n",
       "3           3     Bibb County, AL     22,643     16.95                   97.2   \n",
       "4           4   Blount County, AL     57,704     16.95                   56.9   \n",
       "\n",
       "   uninsured_2015  uninsured_2016  uninsured_2017  population_estimate  \\\n",
       "0           0.128           0.134           0.110              55049.0   \n",
       "1           0.158           0.175           0.161             199510.0   \n",
       "2           0.175           0.174           0.153              26614.0   \n",
       "3           0.151           0.150           0.136              22572.0   \n",
       "4           0.183           0.176           0.165              57704.0   \n",
       "\n",
       "   Pop <5         ...          median_student_loan_debt  share_with_auto_debt  \\\n",
       "0     5.8         ...                             19441                  0.27   \n",
       "1     5.7         ...                             13964                  0.33   \n",
       "2     5.5         ...                              n/a*                  0.26   \n",
       "3     5.1         ...                              n/a*                  0.31   \n",
       "4     6.1         ...                             11128                  0.28   \n",
       "\n",
       "   share_with_auto_or_retail_debt  auto_retail_debt_delinquency_rate  \\\n",
       "0                            0.35                               0.09   \n",
       "1                            0.39                               0.05   \n",
       "2                            0.38                               0.19   \n",
       "3                             0.4                               0.12   \n",
       "4                            0.37                               0.07   \n",
       "\n",
       "   Medicinal  Decriminalized       State Laws  Republican/lean Rep.  No lean  \\\n",
       "0         No              No  View State Laws                   52%      13%   \n",
       "1         No              No  View State Laws                   52%      13%   \n",
       "2         No              No  View State Laws                   52%      13%   \n",
       "3         No              No  View State Laws                   52%      13%   \n",
       "4         No              No  View State Laws                   52%      13%   \n",
       "\n",
       "   Democrat/lean Dem.  \n",
       "0                 35%  \n",
       "1                 35%  \n",
       "2                 35%  \n",
       "3                 35%  \n",
       "4                 35%  \n",
       "\n",
       "[5 rows x 66 columns]"
      ]
     },
     "execution_count": 10,
     "metadata": {},
     "output_type": "execute_result"
    }
   ],
   "source": [
    "merged_data.head()"
   ]
  },
  {
   "cell_type": "code",
   "execution_count": 11,
   "metadata": {},
   "outputs": [
    {
     "data": {
      "text/plain": [
       "No     1714\n",
       "Yes    1422\n",
       "Name: Medicinal, dtype: int64"
      ]
     },
     "execution_count": 11,
     "metadata": {},
     "output_type": "execute_result"
    }
   ],
   "source": [
    "merged_data['Medicinal'].value_counts()"
   ]
  },
  {
   "cell_type": "code",
   "execution_count": 12,
   "metadata": {},
   "outputs": [
    {
     "data": {
      "text/plain": [
       "No         1992\n",
       "Reduced     779\n",
       "Yes         365\n",
       "Name: Decriminalized, dtype: int64"
      ]
     },
     "execution_count": 12,
     "metadata": {},
     "output_type": "execute_result"
    }
   ],
   "source": [
    "merged_data['Decriminalized'].value_counts()"
   ]
  },
  {
   "cell_type": "code",
   "execution_count": 16,
   "metadata": {},
   "outputs": [
    {
     "data": {
      "text/plain": [
       "View State Laws    3136\n",
       "Name: State Laws, dtype: int64"
      ]
     },
     "execution_count": 16,
     "metadata": {},
     "output_type": "execute_result"
    }
   ],
   "source": [
    "merged_data['State Laws'].value_counts()"
   ]
  },
  {
   "cell_type": "code",
   "execution_count": 15,
   "metadata": {},
   "outputs": [
    {
     "data": {
      "text/plain": [
       "41%    597\n",
       "39%    435\n",
       "42%    252\n",
       "43%    234\n",
       "44%    202\n",
       "46%    180\n",
       "33%    141\n",
       "37%    117\n",
       "49%    100\n",
       "48%     95\n",
       "47%     93\n",
       "30%     84\n",
       "34%     83\n",
       "45%     77\n",
       "28%     67\n",
       "52%     67\n",
       "53%     66\n",
       "50%     53\n",
       "32%     44\n",
       "54%     29\n",
       "31%     24\n",
       "57%     23\n",
       "29%     17\n",
       "36%     16\n",
       "40%     15\n",
       "27%     14\n",
       "35%     10\n",
       "11%      1\n",
       "Name: Republican/lean Rep., dtype: int64"
      ]
     },
     "execution_count": 15,
     "metadata": {},
     "output_type": "execute_result"
    }
   ],
   "source": [
    "merged_data['Republican/lean Rep.'].value_counts()"
   ]
  },
  {
   "cell_type": "code",
   "execution_count": 17,
   "metadata": {},
   "outputs": [
    {
     "data": {
      "text/plain": [
       "18%    642\n",
       "19%    478\n",
       "21%    419\n",
       "15%    360\n",
       "16%    295\n",
       "17%    286\n",
       "13%    187\n",
       "23%    144\n",
       "14%    120\n",
       "20%    107\n",
       "10%     66\n",
       "29%     27\n",
       "22%      5\n",
       "Name: No lean, dtype: int64"
      ]
     },
     "execution_count": 17,
     "metadata": {},
     "output_type": "execute_result"
    }
   ],
   "source": [
    "merged_data['No lean'].value_counts()"
   ]
  },
  {
   "cell_type": "code",
   "execution_count": 18,
   "metadata": {},
   "outputs": [
    {
     "data": {
      "text/plain": [
       "40%    518\n",
       "42%    329\n",
       "43%    284\n",
       "41%    214\n",
       "39%    194\n",
       "36%    188\n",
       "46%    171\n",
       "37%    158\n",
       "48%    140\n",
       "47%    135\n",
       "44%    116\n",
       "31%    105\n",
       "30%     85\n",
       "38%     75\n",
       "32%     71\n",
       "35%     67\n",
       "53%     62\n",
       "49%     58\n",
       "33%     53\n",
       "55%     27\n",
       "51%     26\n",
       "25%     23\n",
       "57%     14\n",
       "56%     14\n",
       "50%      8\n",
       "73%      1\n",
       "Name: Democrat/lean Dem., dtype: int64"
      ]
     },
     "execution_count": 18,
     "metadata": {},
     "output_type": "execute_result"
    }
   ],
   "source": [
    "merged_data['Democrat/lean Dem.'].value_counts()"
   ]
  },
  {
   "cell_type": "code",
   "execution_count": 22,
   "metadata": {},
   "outputs": [
    {
     "data": {
      "text/plain": [
       "[1,\n",
       " 0,\n",
       " 0,\n",
       " 0,\n",
       " 2,\n",
       " 0,\n",
       " 0,\n",
       " 0,\n",
       " 0,\n",
       " 1,\n",
       " 1,\n",
       " 1,\n",
       " 1,\n",
       " 0,\n",
       " 1,\n",
       " 1,\n",
       " 1,\n",
       " 0,\n",
       " 0,\n",
       " 1,\n",
       " 0,\n",
       " 0,\n",
       " 0,\n",
       " 0,\n",
       " 1,\n",
       " 1,\n",
       " 4,\n",
       " 0,\n",
       " 0,\n",
       " 0,\n",
       " 0,\n",
       " 0,\n",
       " 0,\n",
       " 0,\n",
       " 4,\n",
       " 0,\n",
       " 0,\n",
       " 0,\n",
       " 0,\n",
       " 0,\n",
       " 0,\n",
       " 1,\n",
       " 0,\n",
       " 2,\n",
       " 0,\n",
       " 0,\n",
       " 0,\n",
       " 8,\n",
       " 1878,\n",
       " 0,\n",
       " 0,\n",
       " 0,\n",
       " 0,\n",
       " 0,\n",
       " 0,\n",
       " 0,\n",
       " 0,\n",
       " 0,\n",
       " 0,\n",
       " 0,\n",
       " 0,\n",
       " 0,\n",
       " 0,\n",
       " 0,\n",
       " 0,\n",
       " 0]"
      ]
     },
     "execution_count": 22,
     "metadata": {},
     "output_type": "execute_result"
    }
   ],
   "source": [
    "merged_data.isin([0]).sum().tolist()"
   ]
  },
  {
   "cell_type": "code",
   "execution_count": null,
   "metadata": {},
   "outputs": [],
   "source": [
    "merged_data['Republican/lean Rep.'] = "
   ]
  }
 ],
 "metadata": {
  "kernelspec": {
   "display_name": "Python 3",
   "language": "python",
   "name": "python3"
  },
  "language_info": {
   "codemirror_mode": {
    "name": "ipython",
    "version": 3
   },
   "file_extension": ".py",
   "mimetype": "text/x-python",
   "name": "python",
   "nbconvert_exporter": "python",
   "pygments_lexer": "ipython3",
   "version": "3.6.8"
  }
 },
 "nbformat": 4,
 "nbformat_minor": 2
}
