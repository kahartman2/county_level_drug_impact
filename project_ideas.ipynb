{
 "cells": [
  {
   "cell_type": "markdown",
   "metadata": {},
   "source": [
    "# Final Project Proposal"
   ]
  },
  {
   "cell_type": "code",
   "execution_count": 50,
   "metadata": {},
   "outputs": [],
   "source": [
    "import pandas as pd \n",
    "import numpy as np\n",
    "import requests\n",
    "import tweepy\n",
    "from bs4 import BeautifulSoup\n",
    "import re\n",
    "from selenium import webdriver\n",
    "import matplotlib.pyplot as plt\n",
    "import time\n",
    "from random import randint\n",
    "from fredapi import Fred"
   ]
  },
  {
   "cell_type": "markdown",
   "metadata": {},
   "source": [
    "### What question/questions are you trying to solve?"
   ]
  },
  {
   "cell_type": "markdown",
   "metadata": {},
   "source": [
    "What geographic areas are most at risk to the opioid crisis? How has sentiment surrounding the opioid crisis changed over time? \n",
    "\n",
    "https://www.ncbi.nlm.nih.gov/pmc/articles/PMC6034970/\n",
    "\n",
    "###### What are the outcomes you think you will find (could use mutually exclusive collectively exhaustive for this), and then so what?\n",
    "\n",
    "###### How would someone, or some entity take action upon learning this?\n",
    "\n",
    "###### What version this question would allow me to find an answer in 2-3 days?\n",
    "\n",
    "###### What version of this question would allow me/motivate me to work on this problem even after completing Flatiron School?\n"
   ]
  },
  {
   "cell_type": "code",
   "execution_count": 3,
   "metadata": {},
   "outputs": [],
   "source": [
    "df = pd.read_csv('data/raw_data.csv', skiprows=2)"
   ]
  },
  {
   "cell_type": "code",
   "execution_count": 4,
   "metadata": {},
   "outputs": [
    {
     "data": {
      "text/html": [
       "<div>\n",
       "<style scoped>\n",
       "    .dataframe tbody tr th:only-of-type {\n",
       "        vertical-align: middle;\n",
       "    }\n",
       "\n",
       "    .dataframe tbody tr th {\n",
       "        vertical-align: top;\n",
       "    }\n",
       "\n",
       "    .dataframe thead th {\n",
       "        text-align: right;\n",
       "    }\n",
       "</style>\n",
       "<table border=\"1\" class=\"dataframe\">\n",
       "  <thead>\n",
       "    <tr style=\"text-align: right;\">\n",
       "      <th></th>\n",
       "      <th>Location</th>\n",
       "      <th>Natural and Semisynthetic Opioids (e.g. oxycodone, hydrocodone)</th>\n",
       "      <th>Synthetic Opioids, other than Methadone (e.g. fentanyl, tramadol)</th>\n",
       "      <th>Methadone</th>\n",
       "      <th>Heroin</th>\n",
       "    </tr>\n",
       "  </thead>\n",
       "  <tbody>\n",
       "    <tr>\n",
       "      <th>0</th>\n",
       "      <td>United States</td>\n",
       "      <td>14495.0</td>\n",
       "      <td>28466</td>\n",
       "      <td>3194</td>\n",
       "      <td>15482</td>\n",
       "    </tr>\n",
       "    <tr>\n",
       "      <th>1</th>\n",
       "      <td>Alabama</td>\n",
       "      <td>141.0</td>\n",
       "      <td>198</td>\n",
       "      <td>30</td>\n",
       "      <td>125</td>\n",
       "    </tr>\n",
       "    <tr>\n",
       "      <th>2</th>\n",
       "      <td>Alaska</td>\n",
       "      <td>47.0</td>\n",
       "      <td>37</td>\n",
       "      <td>NSD</td>\n",
       "      <td>36</td>\n",
       "    </tr>\n",
       "    <tr>\n",
       "      <th>3</th>\n",
       "      <td>Arizona</td>\n",
       "      <td>349.0</td>\n",
       "      <td>267</td>\n",
       "      <td>83</td>\n",
       "      <td>334</td>\n",
       "    </tr>\n",
       "    <tr>\n",
       "      <th>4</th>\n",
       "      <td>Arkansas</td>\n",
       "      <td>116.0</td>\n",
       "      <td>68</td>\n",
       "      <td>17</td>\n",
       "      <td>15</td>\n",
       "    </tr>\n",
       "  </tbody>\n",
       "</table>\n",
       "</div>"
      ],
      "text/plain": [
       "        Location  \\\n",
       "0  United States   \n",
       "1        Alabama   \n",
       "2         Alaska   \n",
       "3        Arizona   \n",
       "4       Arkansas   \n",
       "\n",
       "   Natural and Semisynthetic Opioids (e.g. oxycodone, hydrocodone)  \\\n",
       "0                                            14495.0                 \n",
       "1                                              141.0                 \n",
       "2                                               47.0                 \n",
       "3                                              349.0                 \n",
       "4                                              116.0                 \n",
       "\n",
       "  Synthetic Opioids, other than Methadone (e.g. fentanyl, tramadol) Methadone  \\\n",
       "0                                              28466                     3194   \n",
       "1                                                198                       30   \n",
       "2                                                 37                      NSD   \n",
       "3                                                267                       83   \n",
       "4                                                 68                       17   \n",
       "\n",
       "  Heroin  \n",
       "0  15482  \n",
       "1    125  \n",
       "2     36  \n",
       "3    334  \n",
       "4     15  "
      ]
     },
     "execution_count": 4,
     "metadata": {},
     "output_type": "execute_result"
    }
   ],
   "source": [
    "df.head()"
   ]
  },
  {
   "cell_type": "code",
   "execution_count": 5,
   "metadata": {},
   "outputs": [],
   "source": [
    "df = df.iloc[0:52]"
   ]
  },
  {
   "cell_type": "code",
   "execution_count": 6,
   "metadata": {},
   "outputs": [
    {
     "data": {
      "text/html": [
       "<div>\n",
       "<style scoped>\n",
       "    .dataframe tbody tr th:only-of-type {\n",
       "        vertical-align: middle;\n",
       "    }\n",
       "\n",
       "    .dataframe tbody tr th {\n",
       "        vertical-align: top;\n",
       "    }\n",
       "\n",
       "    .dataframe thead th {\n",
       "        text-align: right;\n",
       "    }\n",
       "</style>\n",
       "<table border=\"1\" class=\"dataframe\">\n",
       "  <thead>\n",
       "    <tr style=\"text-align: right;\">\n",
       "      <th></th>\n",
       "      <th>Location</th>\n",
       "      <th>Natural and Semisynthetic Opioids (e.g. oxycodone, hydrocodone)</th>\n",
       "      <th>Synthetic Opioids, other than Methadone (e.g. fentanyl, tramadol)</th>\n",
       "      <th>Methadone</th>\n",
       "      <th>Heroin</th>\n",
       "    </tr>\n",
       "  </thead>\n",
       "  <tbody>\n",
       "    <tr>\n",
       "      <th>47</th>\n",
       "      <td>Virginia</td>\n",
       "      <td>336.0</td>\n",
       "      <td>829</td>\n",
       "      <td>83</td>\n",
       "      <td>556</td>\n",
       "    </tr>\n",
       "    <tr>\n",
       "      <th>48</th>\n",
       "      <td>Washington</td>\n",
       "      <td>250.0</td>\n",
       "      <td>143</td>\n",
       "      <td>119</td>\n",
       "      <td>306</td>\n",
       "    </tr>\n",
       "    <tr>\n",
       "      <th>49</th>\n",
       "      <td>West Virginia</td>\n",
       "      <td>279.0</td>\n",
       "      <td>618</td>\n",
       "      <td>35</td>\n",
       "      <td>244</td>\n",
       "    </tr>\n",
       "    <tr>\n",
       "      <th>50</th>\n",
       "      <td>Wisconsin</td>\n",
       "      <td>318.0</td>\n",
       "      <td>466</td>\n",
       "      <td>58</td>\n",
       "      <td>414</td>\n",
       "    </tr>\n",
       "    <tr>\n",
       "      <th>51</th>\n",
       "      <td>Wyoming</td>\n",
       "      <td>30.0</td>\n",
       "      <td>17</td>\n",
       "      <td>NSD</td>\n",
       "      <td>NSD</td>\n",
       "    </tr>\n",
       "  </tbody>\n",
       "</table>\n",
       "</div>"
      ],
      "text/plain": [
       "         Location  \\\n",
       "47       Virginia   \n",
       "48     Washington   \n",
       "49  West Virginia   \n",
       "50      Wisconsin   \n",
       "51        Wyoming   \n",
       "\n",
       "    Natural and Semisynthetic Opioids (e.g. oxycodone, hydrocodone)  \\\n",
       "47                                              336.0                 \n",
       "48                                              250.0                 \n",
       "49                                              279.0                 \n",
       "50                                              318.0                 \n",
       "51                                               30.0                 \n",
       "\n",
       "   Synthetic Opioids, other than Methadone (e.g. fentanyl, tramadol)  \\\n",
       "47                                                829                  \n",
       "48                                                143                  \n",
       "49                                                618                  \n",
       "50                                                466                  \n",
       "51                                                 17                  \n",
       "\n",
       "   Methadone Heroin  \n",
       "47        83    556  \n",
       "48       119    306  \n",
       "49        35    244  \n",
       "50        58    414  \n",
       "51       NSD    NSD  "
      ]
     },
     "execution_count": 6,
     "metadata": {},
     "output_type": "execute_result"
    }
   ],
   "source": [
    "df.tail()"
   ]
  },
  {
   "cell_type": "code",
   "execution_count": 7,
   "metadata": {},
   "outputs": [
    {
     "data": {
      "text/plain": [
       "Location                                                             0\n",
       "Natural and Semisynthetic Opioids (e.g. oxycodone, hydrocodone)      0\n",
       "Synthetic Opioids, other than Methadone (e.g. fentanyl, tramadol)    0\n",
       "Methadone                                                            0\n",
       "Heroin                                                               0\n",
       "dtype: int64"
      ]
     },
     "execution_count": 7,
     "metadata": {},
     "output_type": "execute_result"
    }
   ],
   "source": [
    "df.isna().sum()"
   ]
  },
  {
   "cell_type": "code",
   "execution_count": 8,
   "metadata": {},
   "outputs": [],
   "source": [
    "df = df.drop([0])"
   ]
  },
  {
   "cell_type": "code",
   "execution_count": 9,
   "metadata": {},
   "outputs": [],
   "source": [
    "df['Synthetic Opioids, other than Methadone (e.g. fentanyl, tramadol)'] = df['Synthetic Opioids, other than Methadone (e.g. fentanyl, tramadol)'].apply(lambda x: str(x))\n",
    "df = df[df['Synthetic Opioids, other than Methadone (e.g. fentanyl, tramadol)'] != 'NSD']\n",
    "df['Synthetic Opioids, other than Methadone (e.g. fentanyl, tramadol)'] = df['Synthetic Opioids, other than Methadone (e.g. fentanyl, tramadol)'].apply(lambda x: float(x))"
   ]
  },
  {
   "cell_type": "code",
   "execution_count": 10,
   "metadata": {},
   "outputs": [],
   "source": [
    "df['Methadone'] = df['Methadone'].apply(lambda x: str(x))\n",
    "df = df[df['Methadone'] != 'NSD']\n",
    "df['Methadone'] = df['Methadone'].apply(lambda x: float(x))"
   ]
  },
  {
   "cell_type": "code",
   "execution_count": 11,
   "metadata": {},
   "outputs": [
    {
     "data": {
      "text/html": [
       "<div>\n",
       "<style scoped>\n",
       "    .dataframe tbody tr th:only-of-type {\n",
       "        vertical-align: middle;\n",
       "    }\n",
       "\n",
       "    .dataframe tbody tr th {\n",
       "        vertical-align: top;\n",
       "    }\n",
       "\n",
       "    .dataframe thead th {\n",
       "        text-align: right;\n",
       "    }\n",
       "</style>\n",
       "<table border=\"1\" class=\"dataframe\">\n",
       "  <thead>\n",
       "    <tr style=\"text-align: right;\">\n",
       "      <th></th>\n",
       "      <th>Location</th>\n",
       "      <th>Natural and Semisynthetic Opioids (e.g. oxycodone, hydrocodone)</th>\n",
       "      <th>Synthetic Opioids, other than Methadone (e.g. fentanyl, tramadol)</th>\n",
       "      <th>Methadone</th>\n",
       "      <th>Heroin</th>\n",
       "    </tr>\n",
       "  </thead>\n",
       "  <tbody>\n",
       "    <tr>\n",
       "      <th>1</th>\n",
       "      <td>Alabama</td>\n",
       "      <td>141.0</td>\n",
       "      <td>198.0</td>\n",
       "      <td>30.0</td>\n",
       "      <td>125</td>\n",
       "    </tr>\n",
       "    <tr>\n",
       "      <th>3</th>\n",
       "      <td>Arizona</td>\n",
       "      <td>349.0</td>\n",
       "      <td>267.0</td>\n",
       "      <td>83.0</td>\n",
       "      <td>334</td>\n",
       "    </tr>\n",
       "    <tr>\n",
       "      <th>4</th>\n",
       "      <td>Arkansas</td>\n",
       "      <td>116.0</td>\n",
       "      <td>68.0</td>\n",
       "      <td>17.0</td>\n",
       "      <td>15</td>\n",
       "    </tr>\n",
       "    <tr>\n",
       "      <th>5</th>\n",
       "      <td>California</td>\n",
       "      <td>973.0</td>\n",
       "      <td>536.0</td>\n",
       "      <td>253.0</td>\n",
       "      <td>715</td>\n",
       "    </tr>\n",
       "    <tr>\n",
       "      <th>6</th>\n",
       "      <td>Colorado</td>\n",
       "      <td>254.0</td>\n",
       "      <td>112.0</td>\n",
       "      <td>58.0</td>\n",
       "      <td>224</td>\n",
       "    </tr>\n",
       "  </tbody>\n",
       "</table>\n",
       "</div>"
      ],
      "text/plain": [
       "     Location  \\\n",
       "1     Alabama   \n",
       "3     Arizona   \n",
       "4    Arkansas   \n",
       "5  California   \n",
       "6    Colorado   \n",
       "\n",
       "   Natural and Semisynthetic Opioids (e.g. oxycodone, hydrocodone)  \\\n",
       "1                                              141.0                 \n",
       "3                                              349.0                 \n",
       "4                                              116.0                 \n",
       "5                                              973.0                 \n",
       "6                                              254.0                 \n",
       "\n",
       "   Synthetic Opioids, other than Methadone (e.g. fentanyl, tramadol)  \\\n",
       "1                                              198.0                   \n",
       "3                                              267.0                   \n",
       "4                                               68.0                   \n",
       "5                                              536.0                   \n",
       "6                                              112.0                   \n",
       "\n",
       "   Methadone Heroin  \n",
       "1       30.0    125  \n",
       "3       83.0    334  \n",
       "4       17.0     15  \n",
       "5      253.0    715  \n",
       "6       58.0    224  "
      ]
     },
     "execution_count": 11,
     "metadata": {},
     "output_type": "execute_result"
    }
   ],
   "source": [
    "df.head()"
   ]
  },
  {
   "cell_type": "code",
   "execution_count": 12,
   "metadata": {},
   "outputs": [],
   "source": [
    "df['Heroin'] = df['Heroin'].apply(lambda x: str(x))\n",
    "df = df[df['Heroin'] != 'NSD']\n",
    "df['Heroin'] = df['Heroin'].apply(lambda x: float(x))"
   ]
  },
  {
   "cell_type": "code",
   "execution_count": 13,
   "metadata": {},
   "outputs": [
    {
     "data": {
      "text/html": [
       "<div>\n",
       "<style scoped>\n",
       "    .dataframe tbody tr th:only-of-type {\n",
       "        vertical-align: middle;\n",
       "    }\n",
       "\n",
       "    .dataframe tbody tr th {\n",
       "        vertical-align: top;\n",
       "    }\n",
       "\n",
       "    .dataframe thead th {\n",
       "        text-align: right;\n",
       "    }\n",
       "</style>\n",
       "<table border=\"1\" class=\"dataframe\">\n",
       "  <thead>\n",
       "    <tr style=\"text-align: right;\">\n",
       "      <th></th>\n",
       "      <th>Location</th>\n",
       "      <th>Natural and Semisynthetic Opioids (e.g. oxycodone, hydrocodone)</th>\n",
       "      <th>Synthetic Opioids, other than Methadone (e.g. fentanyl, tramadol)</th>\n",
       "      <th>Methadone</th>\n",
       "      <th>Heroin</th>\n",
       "    </tr>\n",
       "  </thead>\n",
       "  <tbody>\n",
       "    <tr>\n",
       "      <th>33</th>\n",
       "      <td>New York</td>\n",
       "      <td>821.0</td>\n",
       "      <td>2238.0</td>\n",
       "      <td>283.0</td>\n",
       "      <td>1356.0</td>\n",
       "    </tr>\n",
       "    <tr>\n",
       "      <th>14</th>\n",
       "      <td>Illinois</td>\n",
       "      <td>494.0</td>\n",
       "      <td>1251.0</td>\n",
       "      <td>155.0</td>\n",
       "      <td>1187.0</td>\n",
       "    </tr>\n",
       "    <tr>\n",
       "      <th>31</th>\n",
       "      <td>New Jersey</td>\n",
       "      <td>424.0</td>\n",
       "      <td>1376.0</td>\n",
       "      <td>82.0</td>\n",
       "      <td>1085.0</td>\n",
       "    </tr>\n",
       "    <tr>\n",
       "      <th>36</th>\n",
       "      <td>Ohio</td>\n",
       "      <td>854.0</td>\n",
       "      <td>3523.0</td>\n",
       "      <td>106.0</td>\n",
       "      <td>1000.0</td>\n",
       "    </tr>\n",
       "    <tr>\n",
       "      <th>39</th>\n",
       "      <td>Pennsylvania</td>\n",
       "      <td>564.0</td>\n",
       "      <td>1982.0</td>\n",
       "      <td>64.0</td>\n",
       "      <td>819.0</td>\n",
       "    </tr>\n",
       "    <tr>\n",
       "      <th>23</th>\n",
       "      <td>Michigan</td>\n",
       "      <td>510.0</td>\n",
       "      <td>1368.0</td>\n",
       "      <td>148.0</td>\n",
       "      <td>783.0</td>\n",
       "    </tr>\n",
       "    <tr>\n",
       "      <th>5</th>\n",
       "      <td>California</td>\n",
       "      <td>973.0</td>\n",
       "      <td>536.0</td>\n",
       "      <td>253.0</td>\n",
       "      <td>715.0</td>\n",
       "    </tr>\n",
       "    <tr>\n",
       "      <th>10</th>\n",
       "      <td>Florida</td>\n",
       "      <td>1133.0</td>\n",
       "      <td>2126.0</td>\n",
       "      <td>175.0</td>\n",
       "      <td>707.0</td>\n",
       "    </tr>\n",
       "    <tr>\n",
       "      <th>44</th>\n",
       "      <td>Texas</td>\n",
       "      <td>535.0</td>\n",
       "      <td>348.0</td>\n",
       "      <td>129.0</td>\n",
       "      <td>569.0</td>\n",
       "    </tr>\n",
       "    <tr>\n",
       "      <th>47</th>\n",
       "      <td>Virginia</td>\n",
       "      <td>336.0</td>\n",
       "      <td>829.0</td>\n",
       "      <td>83.0</td>\n",
       "      <td>556.0</td>\n",
       "    </tr>\n",
       "  </tbody>\n",
       "</table>\n",
       "</div>"
      ],
      "text/plain": [
       "        Location  \\\n",
       "33      New York   \n",
       "14      Illinois   \n",
       "31    New Jersey   \n",
       "36          Ohio   \n",
       "39  Pennsylvania   \n",
       "23      Michigan   \n",
       "5     California   \n",
       "10       Florida   \n",
       "44         Texas   \n",
       "47      Virginia   \n",
       "\n",
       "    Natural and Semisynthetic Opioids (e.g. oxycodone, hydrocodone)  \\\n",
       "33                                              821.0                 \n",
       "14                                              494.0                 \n",
       "31                                              424.0                 \n",
       "36                                              854.0                 \n",
       "39                                              564.0                 \n",
       "23                                              510.0                 \n",
       "5                                               973.0                 \n",
       "10                                             1133.0                 \n",
       "44                                              535.0                 \n",
       "47                                              336.0                 \n",
       "\n",
       "    Synthetic Opioids, other than Methadone (e.g. fentanyl, tramadol)  \\\n",
       "33                                             2238.0                   \n",
       "14                                             1251.0                   \n",
       "31                                             1376.0                   \n",
       "36                                             3523.0                   \n",
       "39                                             1982.0                   \n",
       "23                                             1368.0                   \n",
       "5                                               536.0                   \n",
       "10                                             2126.0                   \n",
       "44                                              348.0                   \n",
       "47                                              829.0                   \n",
       "\n",
       "    Methadone  Heroin  \n",
       "33      283.0  1356.0  \n",
       "14      155.0  1187.0  \n",
       "31       82.0  1085.0  \n",
       "36      106.0  1000.0  \n",
       "39       64.0   819.0  \n",
       "23      148.0   783.0  \n",
       "5       253.0   715.0  \n",
       "10      175.0   707.0  \n",
       "44      129.0   569.0  \n",
       "47       83.0   556.0  "
      ]
     },
     "execution_count": 13,
     "metadata": {},
     "output_type": "execute_result"
    }
   ],
   "source": [
    "df.nlargest(10, 'Heroin')"
   ]
  },
  {
   "cell_type": "code",
   "execution_count": 49,
   "metadata": {},
   "outputs": [
    {
     "data": {
      "image/png": "[encoded data removed]",
      "text/plain": [
       "<Figure size 1296x576 with 1 Axes>"
      ]
     },
     "metadata": {
      "needs_background": "light"
     },
     "output_type": "display_data"
    }
   ],
   "source": [
    "plt.figure(figsize=(18,8))\n",
    "plt.bar(df.nlargest(20, 'Heroin')['Location'], df.nlargest(20, 'Heroin')['Heroin'])\n",
    "plt.show()"
   ]
  },
  {
   "cell_type": "code",
   "execution_count": 15,
   "metadata": {},
   "outputs": [
    {
     "ename": "NameError",
     "evalue": "name 'r1' is not defined",
     "output_type": "error",
     "traceback": [
      "\u001b[0;31m---------------------------------------------------------------------------\u001b[0m",
      "\u001b[0;31mNameError\u001b[0m                                 Traceback (most recent call last)",
      "\u001b[0;32m<ipython-input-15-9df9c94be2d6>\u001b[0m in \u001b[0;36m<module>\u001b[0;34m\u001b[0m\n\u001b[1;32m      6\u001b[0m \u001b[0mbars4\u001b[0m \u001b[0;34m=\u001b[0m \u001b[0mdf\u001b[0m\u001b[0;34m.\u001b[0m\u001b[0mnlargest\u001b[0m\u001b[0;34m(\u001b[0m\u001b[0;36m10\u001b[0m\u001b[0;34m,\u001b[0m \u001b[0;34m'Heroin'\u001b[0m\u001b[0;34m)\u001b[0m\u001b[0;34m[\u001b[0m\u001b[0;34m'Natural and Semisynthetic Opioids (e.g. oxycodone, hydrocodone)'\u001b[0m\u001b[0;34m]\u001b[0m\u001b[0;34m\u001b[0m\u001b[0;34m\u001b[0m\u001b[0m\n\u001b[1;32m      7\u001b[0m \u001b[0;34m\u001b[0m\u001b[0m\n\u001b[0;32m----> 8\u001b[0;31m \u001b[0mplt\u001b[0m\u001b[0;34m.\u001b[0m\u001b[0mbar\u001b[0m\u001b[0;34m(\u001b[0m\u001b[0mr1\u001b[0m\u001b[0;34m,\u001b[0m \u001b[0mbars1\u001b[0m\u001b[0;34m,\u001b[0m \u001b[0mwidth\u001b[0m\u001b[0;34m=\u001b[0m\u001b[0mbarWidth\u001b[0m\u001b[0;34m,\u001b[0m \u001b[0medgecolor\u001b[0m\u001b[0;34m=\u001b[0m\u001b[0;34m'white'\u001b[0m\u001b[0;34m,\u001b[0m \u001b[0mlabel\u001b[0m\u001b[0;34m=\u001b[0m\u001b[0;34m'var1'\u001b[0m\u001b[0;34m)\u001b[0m\u001b[0;34m\u001b[0m\u001b[0;34m\u001b[0m\u001b[0m\n\u001b[0m\u001b[1;32m      9\u001b[0m \u001b[0mplt\u001b[0m\u001b[0;34m.\u001b[0m\u001b[0mbar\u001b[0m\u001b[0;34m(\u001b[0m\u001b[0mr2\u001b[0m\u001b[0;34m,\u001b[0m \u001b[0mbars2\u001b[0m\u001b[0;34m,\u001b[0m \u001b[0mwidth\u001b[0m\u001b[0;34m=\u001b[0m\u001b[0mbarWidth\u001b[0m\u001b[0;34m,\u001b[0m \u001b[0medgecolor\u001b[0m\u001b[0;34m=\u001b[0m\u001b[0;34m'white'\u001b[0m\u001b[0;34m,\u001b[0m \u001b[0mlabel\u001b[0m\u001b[0;34m=\u001b[0m\u001b[0;34m'var2'\u001b[0m\u001b[0;34m)\u001b[0m\u001b[0;34m\u001b[0m\u001b[0;34m\u001b[0m\u001b[0m\n\u001b[1;32m     10\u001b[0m \u001b[0mplt\u001b[0m\u001b[0;34m.\u001b[0m\u001b[0mbar\u001b[0m\u001b[0;34m(\u001b[0m\u001b[0mr3\u001b[0m\u001b[0;34m,\u001b[0m \u001b[0mbars3\u001b[0m\u001b[0;34m,\u001b[0m \u001b[0mwidth\u001b[0m\u001b[0;34m=\u001b[0m\u001b[0mbarWidth\u001b[0m\u001b[0;34m,\u001b[0m \u001b[0medgecolor\u001b[0m\u001b[0;34m=\u001b[0m\u001b[0;34m'white'\u001b[0m\u001b[0;34m,\u001b[0m \u001b[0mlabel\u001b[0m\u001b[0;34m=\u001b[0m\u001b[0;34m'var2'\u001b[0m\u001b[0;34m)\u001b[0m\u001b[0;34m\u001b[0m\u001b[0;34m\u001b[0m\u001b[0m\n",
      "\u001b[0;31mNameError\u001b[0m: name 'r1' is not defined"
     ]
    },
    {
     "data": {
      "text/plain": [
       "<Figure size 1440x720 with 0 Axes>"
      ]
     },
     "metadata": {},
     "output_type": "display_data"
    }
   ],
   "source": [
    "plt.figure(figsize=(20,10))\n",
    "\n",
    "bars1 = df.nlargest(10, 'Heroin')['Heroin']\n",
    "bars2 = df.nlargest(10, 'Heroin')['Methadone']\n",
    "bars3 = df.nlargest(10, 'Heroin')['Synthetic Opioids, other than Methadone (e.g. fentanyl, tramadol)']\n",
    "bars4 = df.nlargest(10, 'Heroin')['Natural and Semisynthetic Opioids (e.g. oxycodone, hydrocodone)']\n",
    " \n",
    "plt.bar(r1, bars1, width=barWidth, edgecolor='white', label='var1')\n",
    "plt.bar(r2, bars2, width=barWidth, edgecolor='white', label='var2')\n",
    "plt.bar(r3, bars3, width=barWidth, edgecolor='white', label='var2')\n",
    "plt.bar(r4, bars4, width=barWidth, edgecolor='white', label='var2')\n",
    "\n",
    "plt.xticks([r + barWidth for r in range(len(bars1))], ['New York', 'Illinois', 'New Jersey', 'Ohio', 'Pennsylvania', 'Michigan', 'California', 'Florida', 'Texas', 'Virginia'])\n",
    "\n",
    "plt.show()"
   ]
  },
  {
   "cell_type": "code",
   "execution_count": null,
   "metadata": {},
   "outputs": [],
   "source": [
    "plt.figure(figsize=(20,10))\n",
    "\n",
    "bars1 = df.nsmallest(10, 'Heroin')['Heroin']\n",
    "bars2 = df.nsmallest(10, 'Heroin')['Methadone']\n",
    "bars3 = df.nsmallest(10, 'Heroin')['Synthetic Opioids, other than Methadone (e.g. fentanyl, tramadol)']\n",
    "bars4 = df.nsmallest(10, 'Heroin')['Natural and Semisynthetic Opioids (e.g. oxycodone, hydrocodone)']\n",
    " \n",
    "plt.bar(r1, bars1, width=barWidth, edgecolor='white', label='var1')\n",
    "plt.bar(r2, bars2, width=barWidth, edgecolor='white', label='var2')\n",
    "plt.bar(r3, bars3, width=barWidth, edgecolor='white', label='var2')\n",
    "plt.bar(r4, bars4, width=barWidth, edgecolor='white', label='var2')\n",
    "\n",
    "plt.xticks([r + barWidth for r in range(len(bars1))], ['New York', 'Illinois', 'New Jersey', 'Ohio', 'Pennsylvania', 'Michigan', 'California', 'Florida', 'Texas', 'Virginia'])\n",
    "\n",
    "plt.show()"
   ]
  },
  {
   "cell_type": "markdown",
   "metadata": {},
   "source": [
    "National v. local news sources "
   ]
  },
  {
   "cell_type": "code",
   "execution_count": 186,
   "metadata": {},
   "outputs": [
    {
     "name": "stdout",
     "output_type": "stream",
     "text": [
      "200\n"
     ]
    },
    {
     "data": {
      "text/plain": [
       "['We now have more proof that drug companies helped cause the ...',\n",
       " \"FDA's opioids adviser accuses agency of having 'direct' link to crisis\",\n",
       " 'California Doctors Alarmed As State Links Their Opioid Prescriptions ...',\n",
       " 'Alexandria warns of opioid danger after four overdose and two die',\n",
       " 'Benzodiazepine Visits Have Doubled, Co-Prescription with Opioids ...',\n",
       " 'Penn reduces opioid use after spine surgery',\n",
       " 'The Importance Of Patient-Centric Opioid Prescribing Guidelines',\n",
       " 'Opioids are killing more children and teens, too, study says',\n",
       " \"Paxton: Texas ramping up fight against opioids with new 'Dose of ...\",\n",
       " 'County by county, researchers link opioid deaths to drugmakers ...']"
      ]
     },
     "execution_count": 186,
     "metadata": {},
     "output_type": "execute_result"
    }
   ],
   "source": [
    "def scrape_news_summaries(url):\n",
    "    time.sleep(randint(0, 2))  # relax and don't let google be angry\n",
    "    r = requests.get(url)\n",
    "    print(r.status_code)  # Print the status code\n",
    "    content = r.text\n",
    "    news_summaries = []\n",
    "    soup = BeautifulSoup(content, \"html.parser\")\n",
    "    st_divs = soup.findAll(\"h3\", {\"class\": \"r\"}) \n",
    "    for st_div in st_divs:\n",
    "        news_summaries.append(st_div.text)\n",
    "    return news_summaries\n",
    "\n",
    "\n",
    "l = scrape_news_summaries(\"https://www.google.com/search?q=opioids&tbm=nws&ei=SFxLXNmsBfHF_Qbk6rTgCQ&start=0&sa=N&ved=0ahUKEwjZ8OvGzongAhXxYt8KHWQ1DZw4ChDy0wMIUQ&biw=1340&bih=703&dpr=1\")\n",
    "#l = scrape_news_summaries(\"\"\"T-Notes\"\"\")\n",
    "l"
   ]
  },
  {
   "cell_type": "code",
   "execution_count": 2,
   "metadata": {},
   "outputs": [],
   "source": [
    "non_med = pd.read_csv('non_med_use.csv')"
   ]
  },
  {
   "cell_type": "code",
   "execution_count": 3,
   "metadata": {},
   "outputs": [
    {
     "data": {
      "text/html": [
       "<div>\n",
       "<style scoped>\n",
       "    .dataframe tbody tr th:only-of-type {\n",
       "        vertical-align: middle;\n",
       "    }\n",
       "\n",
       "    .dataframe tbody tr th {\n",
       "        vertical-align: top;\n",
       "    }\n",
       "\n",
       "    .dataframe thead th {\n",
       "        text-align: right;\n",
       "    }\n",
       "</style>\n",
       "<table border=\"1\" class=\"dataframe\">\n",
       "  <thead>\n",
       "    <tr style=\"text-align: right;\">\n",
       "      <th></th>\n",
       "      <th>STATEFP</th>\n",
       "      <th>COUNTYFP</th>\n",
       "      <th>YEAR</th>\n",
       "      <th>INDICATOR</th>\n",
       "      <th>VALUE</th>\n",
       "      <th>STATE</th>\n",
       "      <th>STATEABBREVIATION</th>\n",
       "      <th>COUNTY</th>\n",
       "    </tr>\n",
       "  </thead>\n",
       "  <tbody>\n",
       "    <tr>\n",
       "      <th>0</th>\n",
       "      <td>1</td>\n",
       "      <td>1</td>\n",
       "      <td>2014</td>\n",
       "      <td>nonmedpain</td>\n",
       "      <td>5.12</td>\n",
       "      <td>Alabama</td>\n",
       "      <td>AL</td>\n",
       "      <td>Autauga County</td>\n",
       "    </tr>\n",
       "    <tr>\n",
       "      <th>1</th>\n",
       "      <td>1</td>\n",
       "      <td>3</td>\n",
       "      <td>2014</td>\n",
       "      <td>nonmedpain</td>\n",
       "      <td>5.27</td>\n",
       "      <td>Alabama</td>\n",
       "      <td>AL</td>\n",
       "      <td>Baldwin County</td>\n",
       "    </tr>\n",
       "    <tr>\n",
       "      <th>2</th>\n",
       "      <td>1</td>\n",
       "      <td>5</td>\n",
       "      <td>2014</td>\n",
       "      <td>nonmedpain</td>\n",
       "      <td>5.27</td>\n",
       "      <td>Alabama</td>\n",
       "      <td>AL</td>\n",
       "      <td>Barbour County</td>\n",
       "    </tr>\n",
       "    <tr>\n",
       "      <th>3</th>\n",
       "      <td>1</td>\n",
       "      <td>7</td>\n",
       "      <td>2014</td>\n",
       "      <td>nonmedpain</td>\n",
       "      <td>5.62</td>\n",
       "      <td>Alabama</td>\n",
       "      <td>AL</td>\n",
       "      <td>Bibb County</td>\n",
       "    </tr>\n",
       "    <tr>\n",
       "      <th>4</th>\n",
       "      <td>1</td>\n",
       "      <td>9</td>\n",
       "      <td>2014</td>\n",
       "      <td>nonmedpain</td>\n",
       "      <td>5.62</td>\n",
       "      <td>Alabama</td>\n",
       "      <td>AL</td>\n",
       "      <td>Blount County</td>\n",
       "    </tr>\n",
       "  </tbody>\n",
       "</table>\n",
       "</div>"
      ],
      "text/plain": [
       "   STATEFP  COUNTYFP  YEAR   INDICATOR  VALUE    STATE STATEABBREVIATION  \\\n",
       "0        1         1  2014  nonmedpain   5.12  Alabama                AL   \n",
       "1        1         3  2014  nonmedpain   5.27  Alabama                AL   \n",
       "2        1         5  2014  nonmedpain   5.27  Alabama                AL   \n",
       "3        1         7  2014  nonmedpain   5.62  Alabama                AL   \n",
       "4        1         9  2014  nonmedpain   5.62  Alabama                AL   \n",
       "\n",
       "           COUNTY  \n",
       "0  Autauga County  \n",
       "1  Baldwin County  \n",
       "2  Barbour County  \n",
       "3     Bibb County  \n",
       "4   Blount County  "
      ]
     },
     "execution_count": 3,
     "metadata": {},
     "output_type": "execute_result"
    }
   ],
   "source": [
    "non_med.head()"
   ]
  },
  {
   "cell_type": "code",
   "execution_count": 4,
   "metadata": {},
   "outputs": [
    {
     "data": {
      "text/plain": [
       "(3220, 8)"
      ]
     },
     "execution_count": 4,
     "metadata": {},
     "output_type": "execute_result"
    }
   ],
   "source": [
    "non_med.shape"
   ]
  },
  {
   "cell_type": "code",
   "execution_count": 19,
   "metadata": {},
   "outputs": [],
   "source": [
    "drug_related_deaths = pd.read_csv('data/drug_related_deaths.csv')"
   ]
  },
  {
   "cell_type": "code",
   "execution_count": 20,
   "metadata": {},
   "outputs": [
    {
     "data": {
      "text/html": [
       "<div>\n",
       "<style scoped>\n",
       "    .dataframe tbody tr th:only-of-type {\n",
       "        vertical-align: middle;\n",
       "    }\n",
       "\n",
       "    .dataframe tbody tr th {\n",
       "        vertical-align: top;\n",
       "    }\n",
       "\n",
       "    .dataframe thead th {\n",
       "        text-align: right;\n",
       "    }\n",
       "</style>\n",
       "<table border=\"1\" class=\"dataframe\">\n",
       "  <thead>\n",
       "    <tr style=\"text-align: right;\">\n",
       "      <th></th>\n",
       "      <th>STATEFP</th>\n",
       "      <th>COUNTYFP</th>\n",
       "      <th>YEAR</th>\n",
       "      <th>INDICATOR</th>\n",
       "      <th>VALUE</th>\n",
       "      <th>STATE</th>\n",
       "      <th>STATEABBREVIATION</th>\n",
       "      <th>COUNTY</th>\n",
       "    </tr>\n",
       "  </thead>\n",
       "  <tbody>\n",
       "    <tr>\n",
       "      <th>0</th>\n",
       "      <td>1</td>\n",
       "      <td>99</td>\n",
       "      <td>2010</td>\n",
       "      <td>drugdeathrate</td>\n",
       "      <td>NaN</td>\n",
       "      <td>Alabama</td>\n",
       "      <td>AL</td>\n",
       "      <td>Monroe County</td>\n",
       "    </tr>\n",
       "    <tr>\n",
       "      <th>1</th>\n",
       "      <td>1</td>\n",
       "      <td>131</td>\n",
       "      <td>2010</td>\n",
       "      <td>drugdeathrate</td>\n",
       "      <td>NaN</td>\n",
       "      <td>Alabama</td>\n",
       "      <td>AL</td>\n",
       "      <td>Wilcox County</td>\n",
       "    </tr>\n",
       "    <tr>\n",
       "      <th>2</th>\n",
       "      <td>1</td>\n",
       "      <td>89</td>\n",
       "      <td>2010</td>\n",
       "      <td>drugdeathrate</td>\n",
       "      <td>10.5</td>\n",
       "      <td>Alabama</td>\n",
       "      <td>AL</td>\n",
       "      <td>Madison County</td>\n",
       "    </tr>\n",
       "    <tr>\n",
       "      <th>3</th>\n",
       "      <td>1</td>\n",
       "      <td>101</td>\n",
       "      <td>2010</td>\n",
       "      <td>drugdeathrate</td>\n",
       "      <td>NaN</td>\n",
       "      <td>Alabama</td>\n",
       "      <td>AL</td>\n",
       "      <td>Montgomery County</td>\n",
       "    </tr>\n",
       "    <tr>\n",
       "      <th>4</th>\n",
       "      <td>1</td>\n",
       "      <td>73</td>\n",
       "      <td>2010</td>\n",
       "      <td>drugdeathrate</td>\n",
       "      <td>9.1</td>\n",
       "      <td>Alabama</td>\n",
       "      <td>AL</td>\n",
       "      <td>Jefferson County</td>\n",
       "    </tr>\n",
       "  </tbody>\n",
       "</table>\n",
       "</div>"
      ],
      "text/plain": [
       "   STATEFP  COUNTYFP  YEAR      INDICATOR  VALUE    STATE STATEABBREVIATION  \\\n",
       "0        1        99  2010  drugdeathrate    NaN  Alabama                AL   \n",
       "1        1       131  2010  drugdeathrate    NaN  Alabama                AL   \n",
       "2        1        89  2010  drugdeathrate   10.5  Alabama                AL   \n",
       "3        1       101  2010  drugdeathrate    NaN  Alabama                AL   \n",
       "4        1        73  2010  drugdeathrate    9.1  Alabama                AL   \n",
       "\n",
       "              COUNTY  \n",
       "0      Monroe County  \n",
       "1      Wilcox County  \n",
       "2     Madison County  \n",
       "3  Montgomery County  \n",
       "4   Jefferson County  "
      ]
     },
     "execution_count": 20,
     "metadata": {},
     "output_type": "execute_result"
    }
   ],
   "source": [
    "drug_related_deaths.head()"
   ]
  },
  {
   "cell_type": "code",
   "execution_count": 21,
   "metadata": {},
   "outputs": [
    {
     "data": {
      "text/plain": [
       "(25760, 8)"
      ]
     },
     "execution_count": 21,
     "metadata": {},
     "output_type": "execute_result"
    }
   ],
   "source": [
    "drug_related_deaths.shape"
   ]
  },
  {
   "cell_type": "code",
   "execution_count": 22,
   "metadata": {},
   "outputs": [],
   "source": [
    "drug_dependency = pd.read_csv('data/drug_dependency.csv')"
   ]
  },
  {
   "cell_type": "code",
   "execution_count": 23,
   "metadata": {},
   "outputs": [
    {
     "data": {
      "text/html": [
       "<div>\n",
       "<style scoped>\n",
       "    .dataframe tbody tr th:only-of-type {\n",
       "        vertical-align: middle;\n",
       "    }\n",
       "\n",
       "    .dataframe tbody tr th {\n",
       "        vertical-align: top;\n",
       "    }\n",
       "\n",
       "    .dataframe thead th {\n",
       "        text-align: right;\n",
       "    }\n",
       "</style>\n",
       "<table border=\"1\" class=\"dataframe\">\n",
       "  <thead>\n",
       "    <tr style=\"text-align: right;\">\n",
       "      <th></th>\n",
       "      <th>STATEFP</th>\n",
       "      <th>COUNTYFP</th>\n",
       "      <th>YEAR</th>\n",
       "      <th>INDICATOR</th>\n",
       "      <th>VALUE</th>\n",
       "      <th>STATE</th>\n",
       "      <th>STATEABBREVIATION</th>\n",
       "      <th>COUNTY</th>\n",
       "    </tr>\n",
       "  </thead>\n",
       "  <tbody>\n",
       "    <tr>\n",
       "      <th>0</th>\n",
       "      <td>1</td>\n",
       "      <td>1</td>\n",
       "      <td>2014</td>\n",
       "      <td>drugdep</td>\n",
       "      <td>2.56</td>\n",
       "      <td>Alabama</td>\n",
       "      <td>AL</td>\n",
       "      <td>Autauga County</td>\n",
       "    </tr>\n",
       "    <tr>\n",
       "      <th>1</th>\n",
       "      <td>1</td>\n",
       "      <td>3</td>\n",
       "      <td>2014</td>\n",
       "      <td>drugdep</td>\n",
       "      <td>2.54</td>\n",
       "      <td>Alabama</td>\n",
       "      <td>AL</td>\n",
       "      <td>Baldwin County</td>\n",
       "    </tr>\n",
       "    <tr>\n",
       "      <th>2</th>\n",
       "      <td>1</td>\n",
       "      <td>5</td>\n",
       "      <td>2014</td>\n",
       "      <td>drugdep</td>\n",
       "      <td>2.54</td>\n",
       "      <td>Alabama</td>\n",
       "      <td>AL</td>\n",
       "      <td>Barbour County</td>\n",
       "    </tr>\n",
       "    <tr>\n",
       "      <th>3</th>\n",
       "      <td>1</td>\n",
       "      <td>7</td>\n",
       "      <td>2014</td>\n",
       "      <td>drugdep</td>\n",
       "      <td>2.58</td>\n",
       "      <td>Alabama</td>\n",
       "      <td>AL</td>\n",
       "      <td>Bibb County</td>\n",
       "    </tr>\n",
       "    <tr>\n",
       "      <th>4</th>\n",
       "      <td>1</td>\n",
       "      <td>9</td>\n",
       "      <td>2014</td>\n",
       "      <td>drugdep</td>\n",
       "      <td>2.58</td>\n",
       "      <td>Alabama</td>\n",
       "      <td>AL</td>\n",
       "      <td>Blount County</td>\n",
       "    </tr>\n",
       "  </tbody>\n",
       "</table>\n",
       "</div>"
      ],
      "text/plain": [
       "   STATEFP  COUNTYFP  YEAR INDICATOR  VALUE    STATE STATEABBREVIATION  \\\n",
       "0        1         1  2014   drugdep   2.56  Alabama                AL   \n",
       "1        1         3  2014   drugdep   2.54  Alabama                AL   \n",
       "2        1         5  2014   drugdep   2.54  Alabama                AL   \n",
       "3        1         7  2014   drugdep   2.58  Alabama                AL   \n",
       "4        1         9  2014   drugdep   2.58  Alabama                AL   \n",
       "\n",
       "           COUNTY  \n",
       "0  Autauga County  \n",
       "1  Baldwin County  \n",
       "2  Barbour County  \n",
       "3     Bibb County  \n",
       "4   Blount County  "
      ]
     },
     "execution_count": 23,
     "metadata": {},
     "output_type": "execute_result"
    }
   ],
   "source": [
    "drug_dependency.head()"
   ]
  },
  {
   "cell_type": "code",
   "execution_count": 24,
   "metadata": {},
   "outputs": [
    {
     "data": {
      "text/plain": [
       "(3220, 8)"
      ]
     },
     "execution_count": 24,
     "metadata": {},
     "output_type": "execute_result"
    }
   ],
   "source": [
    "drug_dependency.shape"
   ]
  },
  {
   "cell_type": "code",
   "execution_count": 25,
   "metadata": {},
   "outputs": [],
   "source": [
    "fentanyl = pd.read_csv('data/fentanyl_state_level.csv')"
   ]
  },
  {
   "cell_type": "code",
   "execution_count": 26,
   "metadata": {},
   "outputs": [
    {
     "data": {
      "text/html": [
       "<div>\n",
       "<style scoped>\n",
       "    .dataframe tbody tr th:only-of-type {\n",
       "        vertical-align: middle;\n",
       "    }\n",
       "\n",
       "    .dataframe tbody tr th {\n",
       "        vertical-align: top;\n",
       "    }\n",
       "\n",
       "    .dataframe thead th {\n",
       "        text-align: right;\n",
       "    }\n",
       "</style>\n",
       "<table border=\"1\" class=\"dataframe\">\n",
       "  <thead>\n",
       "    <tr style=\"text-align: right;\">\n",
       "      <th></th>\n",
       "      <th>STATEFP</th>\n",
       "      <th>STATE</th>\n",
       "      <th>STATEABBREVIATION</th>\n",
       "      <th>YEAR</th>\n",
       "      <th>INDICATOR</th>\n",
       "      <th>VALUE</th>\n",
       "    </tr>\n",
       "  </thead>\n",
       "  <tbody>\n",
       "    <tr>\n",
       "      <th>0</th>\n",
       "      <td>1</td>\n",
       "      <td>Alabama</td>\n",
       "      <td>AL</td>\n",
       "      <td>2016</td>\n",
       "      <td>fentanyl_seize</td>\n",
       "      <td>97.0</td>\n",
       "    </tr>\n",
       "    <tr>\n",
       "      <th>1</th>\n",
       "      <td>1</td>\n",
       "      <td>Alabama</td>\n",
       "      <td>AL</td>\n",
       "      <td>2015</td>\n",
       "      <td>fentanyl_seize</td>\n",
       "      <td>64.0</td>\n",
       "    </tr>\n",
       "    <tr>\n",
       "      <th>2</th>\n",
       "      <td>2</td>\n",
       "      <td>Alaska</td>\n",
       "      <td>AK</td>\n",
       "      <td>2016</td>\n",
       "      <td>fentanyl_seize</td>\n",
       "      <td>11.0</td>\n",
       "    </tr>\n",
       "    <tr>\n",
       "      <th>3</th>\n",
       "      <td>2</td>\n",
       "      <td>Alaska</td>\n",
       "      <td>AK</td>\n",
       "      <td>2015</td>\n",
       "      <td>fentanyl_seize</td>\n",
       "      <td>1.0</td>\n",
       "    </tr>\n",
       "    <tr>\n",
       "      <th>4</th>\n",
       "      <td>4</td>\n",
       "      <td>Arizona</td>\n",
       "      <td>AZ</td>\n",
       "      <td>2016</td>\n",
       "      <td>fentanyl_seize</td>\n",
       "      <td>78.0</td>\n",
       "    </tr>\n",
       "  </tbody>\n",
       "</table>\n",
       "</div>"
      ],
      "text/plain": [
       "   STATEFP    STATE STATEABBREVIATION  YEAR       INDICATOR  VALUE\n",
       "0        1  Alabama                AL  2016  fentanyl_seize   97.0\n",
       "1        1  Alabama                AL  2015  fentanyl_seize   64.0\n",
       "2        2   Alaska                AK  2016  fentanyl_seize   11.0\n",
       "3        2   Alaska                AK  2015  fentanyl_seize    1.0\n",
       "4        4  Arizona                AZ  2016  fentanyl_seize   78.0"
      ]
     },
     "execution_count": 26,
     "metadata": {},
     "output_type": "execute_result"
    }
   ],
   "source": [
    "fentanyl.head()"
   ]
  },
  {
   "cell_type": "code",
   "execution_count": 27,
   "metadata": {},
   "outputs": [
    {
     "data": {
      "text/plain": [
       "(106, 6)"
      ]
     },
     "execution_count": 27,
     "metadata": {},
     "output_type": "execute_result"
    }
   ],
   "source": [
    "fentanyl.shape"
   ]
  },
  {
   "cell_type": "code",
   "execution_count": 28,
   "metadata": {},
   "outputs": [],
   "source": [
    "non_med_pain = pd.read_csv('data/non_med_pain.csv')"
   ]
  },
  {
   "cell_type": "code",
   "execution_count": 29,
   "metadata": {},
   "outputs": [
    {
     "data": {
      "text/html": [
       "<div>\n",
       "<style scoped>\n",
       "    .dataframe tbody tr th:only-of-type {\n",
       "        vertical-align: middle;\n",
       "    }\n",
       "\n",
       "    .dataframe tbody tr th {\n",
       "        vertical-align: top;\n",
       "    }\n",
       "\n",
       "    .dataframe thead th {\n",
       "        text-align: right;\n",
       "    }\n",
       "</style>\n",
       "<table border=\"1\" class=\"dataframe\">\n",
       "  <thead>\n",
       "    <tr style=\"text-align: right;\">\n",
       "      <th></th>\n",
       "      <th>STATEFP</th>\n",
       "      <th>COUNTYFP</th>\n",
       "      <th>YEAR</th>\n",
       "      <th>INDICATOR</th>\n",
       "      <th>VALUE</th>\n",
       "      <th>STATE</th>\n",
       "      <th>STATEABBREVIATION</th>\n",
       "      <th>COUNTY</th>\n",
       "    </tr>\n",
       "  </thead>\n",
       "  <tbody>\n",
       "    <tr>\n",
       "      <th>0</th>\n",
       "      <td>1</td>\n",
       "      <td>1</td>\n",
       "      <td>2014</td>\n",
       "      <td>nonmedpain</td>\n",
       "      <td>5.12</td>\n",
       "      <td>Alabama</td>\n",
       "      <td>AL</td>\n",
       "      <td>Autauga County</td>\n",
       "    </tr>\n",
       "    <tr>\n",
       "      <th>1</th>\n",
       "      <td>1</td>\n",
       "      <td>3</td>\n",
       "      <td>2014</td>\n",
       "      <td>nonmedpain</td>\n",
       "      <td>5.27</td>\n",
       "      <td>Alabama</td>\n",
       "      <td>AL</td>\n",
       "      <td>Baldwin County</td>\n",
       "    </tr>\n",
       "    <tr>\n",
       "      <th>2</th>\n",
       "      <td>1</td>\n",
       "      <td>5</td>\n",
       "      <td>2014</td>\n",
       "      <td>nonmedpain</td>\n",
       "      <td>5.27</td>\n",
       "      <td>Alabama</td>\n",
       "      <td>AL</td>\n",
       "      <td>Barbour County</td>\n",
       "    </tr>\n",
       "    <tr>\n",
       "      <th>3</th>\n",
       "      <td>1</td>\n",
       "      <td>7</td>\n",
       "      <td>2014</td>\n",
       "      <td>nonmedpain</td>\n",
       "      <td>5.62</td>\n",
       "      <td>Alabama</td>\n",
       "      <td>AL</td>\n",
       "      <td>Bibb County</td>\n",
       "    </tr>\n",
       "    <tr>\n",
       "      <th>4</th>\n",
       "      <td>1</td>\n",
       "      <td>9</td>\n",
       "      <td>2014</td>\n",
       "      <td>nonmedpain</td>\n",
       "      <td>5.62</td>\n",
       "      <td>Alabama</td>\n",
       "      <td>AL</td>\n",
       "      <td>Blount County</td>\n",
       "    </tr>\n",
       "  </tbody>\n",
       "</table>\n",
       "</div>"
      ],
      "text/plain": [
       "   STATEFP  COUNTYFP  YEAR   INDICATOR  VALUE    STATE STATEABBREVIATION  \\\n",
       "0        1         1  2014  nonmedpain   5.12  Alabama                AL   \n",
       "1        1         3  2014  nonmedpain   5.27  Alabama                AL   \n",
       "2        1         5  2014  nonmedpain   5.27  Alabama                AL   \n",
       "3        1         7  2014  nonmedpain   5.62  Alabama                AL   \n",
       "4        1         9  2014  nonmedpain   5.62  Alabama                AL   \n",
       "\n",
       "           COUNTY  \n",
       "0  Autauga County  \n",
       "1  Baldwin County  \n",
       "2  Barbour County  \n",
       "3     Bibb County  \n",
       "4   Blount County  "
      ]
     },
     "execution_count": 29,
     "metadata": {},
     "output_type": "execute_result"
    }
   ],
   "source": [
    "non_med_pain.head()"
   ]
  },
  {
   "cell_type": "code",
   "execution_count": 30,
   "metadata": {},
   "outputs": [
    {
     "data": {
      "text/plain": [
       "(3220, 8)"
      ]
     },
     "execution_count": 30,
     "metadata": {},
     "output_type": "execute_result"
    }
   ],
   "source": [
    "non_med_pain.shape"
   ]
  },
  {
   "cell_type": "code",
   "execution_count": 31,
   "metadata": {},
   "outputs": [],
   "source": [
    "need_treatment = pd.read_csv('data/need_treatment.csv')"
   ]
  },
  {
   "cell_type": "code",
   "execution_count": 32,
   "metadata": {},
   "outputs": [
    {
     "data": {
      "text/html": [
       "<div>\n",
       "<style scoped>\n",
       "    .dataframe tbody tr th:only-of-type {\n",
       "        vertical-align: middle;\n",
       "    }\n",
       "\n",
       "    .dataframe tbody tr th {\n",
       "        vertical-align: top;\n",
       "    }\n",
       "\n",
       "    .dataframe thead th {\n",
       "        text-align: right;\n",
       "    }\n",
       "</style>\n",
       "<table border=\"1\" class=\"dataframe\">\n",
       "  <thead>\n",
       "    <tr style=\"text-align: right;\">\n",
       "      <th></th>\n",
       "      <th>STATEFP</th>\n",
       "      <th>COUNTYFP</th>\n",
       "      <th>YEAR</th>\n",
       "      <th>INDICATOR</th>\n",
       "      <th>VALUE</th>\n",
       "      <th>STATE</th>\n",
       "      <th>STATEABBREVIATION</th>\n",
       "      <th>COUNTY</th>\n",
       "    </tr>\n",
       "  </thead>\n",
       "  <tbody>\n",
       "    <tr>\n",
       "      <th>0</th>\n",
       "      <td>1</td>\n",
       "      <td>1</td>\n",
       "      <td>2014</td>\n",
       "      <td>pctunmetneed</td>\n",
       "      <td>95.70</td>\n",
       "      <td>Alabama</td>\n",
       "      <td>AL</td>\n",
       "      <td>Autauga County</td>\n",
       "    </tr>\n",
       "    <tr>\n",
       "      <th>1</th>\n",
       "      <td>1</td>\n",
       "      <td>3</td>\n",
       "      <td>2014</td>\n",
       "      <td>pctunmetneed</td>\n",
       "      <td>91.34</td>\n",
       "      <td>Alabama</td>\n",
       "      <td>AL</td>\n",
       "      <td>Baldwin County</td>\n",
       "    </tr>\n",
       "    <tr>\n",
       "      <th>2</th>\n",
       "      <td>1</td>\n",
       "      <td>5</td>\n",
       "      <td>2014</td>\n",
       "      <td>pctunmetneed</td>\n",
       "      <td>91.34</td>\n",
       "      <td>Alabama</td>\n",
       "      <td>AL</td>\n",
       "      <td>Barbour County</td>\n",
       "    </tr>\n",
       "    <tr>\n",
       "      <th>3</th>\n",
       "      <td>1</td>\n",
       "      <td>7</td>\n",
       "      <td>2014</td>\n",
       "      <td>pctunmetneed</td>\n",
       "      <td>91.86</td>\n",
       "      <td>Alabama</td>\n",
       "      <td>AL</td>\n",
       "      <td>Bibb County</td>\n",
       "    </tr>\n",
       "    <tr>\n",
       "      <th>4</th>\n",
       "      <td>1</td>\n",
       "      <td>9</td>\n",
       "      <td>2014</td>\n",
       "      <td>pctunmetneed</td>\n",
       "      <td>91.86</td>\n",
       "      <td>Alabama</td>\n",
       "      <td>AL</td>\n",
       "      <td>Blount County</td>\n",
       "    </tr>\n",
       "  </tbody>\n",
       "</table>\n",
       "</div>"
      ],
      "text/plain": [
       "   STATEFP  COUNTYFP  YEAR     INDICATOR  VALUE    STATE STATEABBREVIATION  \\\n",
       "0        1         1  2014  pctunmetneed  95.70  Alabama                AL   \n",
       "1        1         3  2014  pctunmetneed  91.34  Alabama                AL   \n",
       "2        1         5  2014  pctunmetneed  91.34  Alabama                AL   \n",
       "3        1         7  2014  pctunmetneed  91.86  Alabama                AL   \n",
       "4        1         9  2014  pctunmetneed  91.86  Alabama                AL   \n",
       "\n",
       "           COUNTY  \n",
       "0  Autauga County  \n",
       "1  Baldwin County  \n",
       "2  Barbour County  \n",
       "3     Bibb County  \n",
       "4   Blount County  "
      ]
     },
     "execution_count": 32,
     "metadata": {},
     "output_type": "execute_result"
    }
   ],
   "source": [
    "need_treatment.head()"
   ]
  },
  {
   "cell_type": "code",
   "execution_count": 33,
   "metadata": {},
   "outputs": [
    {
     "data": {
      "text/plain": [
       "(3220, 8)"
      ]
     },
     "execution_count": 33,
     "metadata": {},
     "output_type": "execute_result"
    }
   ],
   "source": [
    "need_treatment.shape"
   ]
  },
  {
   "cell_type": "code",
   "execution_count": 34,
   "metadata": {},
   "outputs": [],
   "source": [
    "in_patient = pd.read_csv('data/inpatient_stays.csv')"
   ]
  },
  {
   "cell_type": "code",
   "execution_count": 35,
   "metadata": {},
   "outputs": [
    {
     "data": {
      "text/html": [
       "<div>\n",
       "<style scoped>\n",
       "    .dataframe tbody tr th:only-of-type {\n",
       "        vertical-align: middle;\n",
       "    }\n",
       "\n",
       "    .dataframe tbody tr th {\n",
       "        vertical-align: top;\n",
       "    }\n",
       "\n",
       "    .dataframe thead th {\n",
       "        text-align: right;\n",
       "    }\n",
       "</style>\n",
       "<table border=\"1\" class=\"dataframe\">\n",
       "  <thead>\n",
       "    <tr style=\"text-align: right;\">\n",
       "      <th></th>\n",
       "      <th>STATEFP</th>\n",
       "      <th>STATE</th>\n",
       "      <th>STATEABBREVIATION</th>\n",
       "      <th>YEAR</th>\n",
       "      <th>INDICATOR</th>\n",
       "      <th>VALUE</th>\n",
       "    </tr>\n",
       "  </thead>\n",
       "  <tbody>\n",
       "    <tr>\n",
       "      <th>0</th>\n",
       "      <td>1</td>\n",
       "      <td>Alabama</td>\n",
       "      <td>AL</td>\n",
       "      <td>2005</td>\n",
       "      <td>op_rel_inpat</td>\n",
       "      <td>NaN</td>\n",
       "    </tr>\n",
       "    <tr>\n",
       "      <th>1</th>\n",
       "      <td>1</td>\n",
       "      <td>Alabama</td>\n",
       "      <td>AL</td>\n",
       "      <td>2006</td>\n",
       "      <td>op_rel_inpat</td>\n",
       "      <td>NaN</td>\n",
       "    </tr>\n",
       "    <tr>\n",
       "      <th>2</th>\n",
       "      <td>1</td>\n",
       "      <td>Alabama</td>\n",
       "      <td>AL</td>\n",
       "      <td>2007</td>\n",
       "      <td>op_rel_inpat</td>\n",
       "      <td>NaN</td>\n",
       "    </tr>\n",
       "    <tr>\n",
       "      <th>3</th>\n",
       "      <td>1</td>\n",
       "      <td>Alabama</td>\n",
       "      <td>AL</td>\n",
       "      <td>2008</td>\n",
       "      <td>op_rel_inpat</td>\n",
       "      <td>NaN</td>\n",
       "    </tr>\n",
       "    <tr>\n",
       "      <th>4</th>\n",
       "      <td>1</td>\n",
       "      <td>Alabama</td>\n",
       "      <td>AL</td>\n",
       "      <td>2009</td>\n",
       "      <td>op_rel_inpat</td>\n",
       "      <td>NaN</td>\n",
       "    </tr>\n",
       "  </tbody>\n",
       "</table>\n",
       "</div>"
      ],
      "text/plain": [
       "   STATEFP    STATE STATEABBREVIATION  YEAR     INDICATOR  VALUE\n",
       "0        1  Alabama                AL  2005  op_rel_inpat    NaN\n",
       "1        1  Alabama                AL  2006  op_rel_inpat    NaN\n",
       "2        1  Alabama                AL  2007  op_rel_inpat    NaN\n",
       "3        1  Alabama                AL  2008  op_rel_inpat    NaN\n",
       "4        1  Alabama                AL  2009  op_rel_inpat    NaN"
      ]
     },
     "execution_count": 35,
     "metadata": {},
     "output_type": "execute_result"
    }
   ],
   "source": [
    "in_patient.head()"
   ]
  },
  {
   "cell_type": "code",
   "execution_count": 36,
   "metadata": {},
   "outputs": [
    {
     "data": {
      "text/plain": [
       "(583, 6)"
      ]
     },
     "execution_count": 36,
     "metadata": {},
     "output_type": "execute_result"
    }
   ],
   "source": [
    "in_patient.shape"
   ]
  },
  {
   "cell_type": "code",
   "execution_count": 37,
   "metadata": {},
   "outputs": [],
   "source": [
    "emergency_stays = pd.read_csv('data/emergency_stays.csv')"
   ]
  },
  {
   "cell_type": "code",
   "execution_count": 38,
   "metadata": {},
   "outputs": [
    {
     "data": {
      "text/html": [
       "<div>\n",
       "<style scoped>\n",
       "    .dataframe tbody tr th:only-of-type {\n",
       "        vertical-align: middle;\n",
       "    }\n",
       "\n",
       "    .dataframe tbody tr th {\n",
       "        vertical-align: top;\n",
       "    }\n",
       "\n",
       "    .dataframe thead th {\n",
       "        text-align: right;\n",
       "    }\n",
       "</style>\n",
       "<table border=\"1\" class=\"dataframe\">\n",
       "  <thead>\n",
       "    <tr style=\"text-align: right;\">\n",
       "      <th></th>\n",
       "      <th>STATEFP</th>\n",
       "      <th>COUNTYFP</th>\n",
       "      <th>YEAR</th>\n",
       "      <th>INDICATOR</th>\n",
       "      <th>VALUE</th>\n",
       "      <th>STATE</th>\n",
       "      <th>STATEABBREVIATION</th>\n",
       "      <th>COUNTY</th>\n",
       "    </tr>\n",
       "  </thead>\n",
       "  <tbody>\n",
       "    <tr>\n",
       "      <th>0</th>\n",
       "      <td>1</td>\n",
       "      <td>1</td>\n",
       "      <td>2014</td>\n",
       "      <td>nonmedpain</td>\n",
       "      <td>5.12</td>\n",
       "      <td>Alabama</td>\n",
       "      <td>AL</td>\n",
       "      <td>Autauga County</td>\n",
       "    </tr>\n",
       "    <tr>\n",
       "      <th>1</th>\n",
       "      <td>1</td>\n",
       "      <td>3</td>\n",
       "      <td>2014</td>\n",
       "      <td>nonmedpain</td>\n",
       "      <td>5.27</td>\n",
       "      <td>Alabama</td>\n",
       "      <td>AL</td>\n",
       "      <td>Baldwin County</td>\n",
       "    </tr>\n",
       "    <tr>\n",
       "      <th>2</th>\n",
       "      <td>1</td>\n",
       "      <td>5</td>\n",
       "      <td>2014</td>\n",
       "      <td>nonmedpain</td>\n",
       "      <td>5.27</td>\n",
       "      <td>Alabama</td>\n",
       "      <td>AL</td>\n",
       "      <td>Barbour County</td>\n",
       "    </tr>\n",
       "    <tr>\n",
       "      <th>3</th>\n",
       "      <td>1</td>\n",
       "      <td>7</td>\n",
       "      <td>2014</td>\n",
       "      <td>nonmedpain</td>\n",
       "      <td>5.62</td>\n",
       "      <td>Alabama</td>\n",
       "      <td>AL</td>\n",
       "      <td>Bibb County</td>\n",
       "    </tr>\n",
       "    <tr>\n",
       "      <th>4</th>\n",
       "      <td>1</td>\n",
       "      <td>9</td>\n",
       "      <td>2014</td>\n",
       "      <td>nonmedpain</td>\n",
       "      <td>5.62</td>\n",
       "      <td>Alabama</td>\n",
       "      <td>AL</td>\n",
       "      <td>Blount County</td>\n",
       "    </tr>\n",
       "  </tbody>\n",
       "</table>\n",
       "</div>"
      ],
      "text/plain": [
       "   STATEFP  COUNTYFP  YEAR   INDICATOR  VALUE    STATE STATEABBREVIATION  \\\n",
       "0        1         1  2014  nonmedpain   5.12  Alabama                AL   \n",
       "1        1         3  2014  nonmedpain   5.27  Alabama                AL   \n",
       "2        1         5  2014  nonmedpain   5.27  Alabama                AL   \n",
       "3        1         7  2014  nonmedpain   5.62  Alabama                AL   \n",
       "4        1         9  2014  nonmedpain   5.62  Alabama                AL   \n",
       "\n",
       "           COUNTY  \n",
       "0  Autauga County  \n",
       "1  Baldwin County  \n",
       "2  Barbour County  \n",
       "3     Bibb County  \n",
       "4   Blount County  "
      ]
     },
     "execution_count": 38,
     "metadata": {},
     "output_type": "execute_result"
    }
   ],
   "source": [
    "emergency_stays.head()"
   ]
  },
  {
   "cell_type": "code",
   "execution_count": 39,
   "metadata": {},
   "outputs": [
    {
     "data": {
      "text/plain": [
       "(3220, 8)"
      ]
     },
     "execution_count": 39,
     "metadata": {},
     "output_type": "execute_result"
    }
   ],
   "source": [
    "emergency_stays.shape"
   ]
  },
  {
   "cell_type": "code",
   "execution_count": 40,
   "metadata": {},
   "outputs": [],
   "source": [
    "part_d_supply = pd.read_csv('data/part_d_supply.csv')"
   ]
  },
  {
   "cell_type": "code",
   "execution_count": 41,
   "metadata": {},
   "outputs": [
    {
     "data": {
      "text/html": [
       "<div>\n",
       "<style scoped>\n",
       "    .dataframe tbody tr th:only-of-type {\n",
       "        vertical-align: middle;\n",
       "    }\n",
       "\n",
       "    .dataframe tbody tr th {\n",
       "        vertical-align: top;\n",
       "    }\n",
       "\n",
       "    .dataframe thead th {\n",
       "        text-align: right;\n",
       "    }\n",
       "</style>\n",
       "<table border=\"1\" class=\"dataframe\">\n",
       "  <thead>\n",
       "    <tr style=\"text-align: right;\">\n",
       "      <th></th>\n",
       "      <th>STATEFP</th>\n",
       "      <th>STATE</th>\n",
       "      <th>STATEABBREVIATION</th>\n",
       "      <th>YEAR</th>\n",
       "      <th>INDICATOR</th>\n",
       "      <th>VALUE</th>\n",
       "    </tr>\n",
       "  </thead>\n",
       "  <tbody>\n",
       "    <tr>\n",
       "      <th>0</th>\n",
       "      <td>1</td>\n",
       "      <td>Alabama</td>\n",
       "      <td>AL</td>\n",
       "      <td>2005</td>\n",
       "      <td>op_rel_ed</td>\n",
       "      <td>NaN</td>\n",
       "    </tr>\n",
       "    <tr>\n",
       "      <th>1</th>\n",
       "      <td>1</td>\n",
       "      <td>Alabama</td>\n",
       "      <td>AL</td>\n",
       "      <td>2006</td>\n",
       "      <td>op_rel_ed</td>\n",
       "      <td>NaN</td>\n",
       "    </tr>\n",
       "    <tr>\n",
       "      <th>2</th>\n",
       "      <td>1</td>\n",
       "      <td>Alabama</td>\n",
       "      <td>AL</td>\n",
       "      <td>2007</td>\n",
       "      <td>op_rel_ed</td>\n",
       "      <td>NaN</td>\n",
       "    </tr>\n",
       "    <tr>\n",
       "      <th>3</th>\n",
       "      <td>1</td>\n",
       "      <td>Alabama</td>\n",
       "      <td>AL</td>\n",
       "      <td>2008</td>\n",
       "      <td>op_rel_ed</td>\n",
       "      <td>NaN</td>\n",
       "    </tr>\n",
       "    <tr>\n",
       "      <th>4</th>\n",
       "      <td>1</td>\n",
       "      <td>Alabama</td>\n",
       "      <td>AL</td>\n",
       "      <td>2009</td>\n",
       "      <td>op_rel_ed</td>\n",
       "      <td>NaN</td>\n",
       "    </tr>\n",
       "  </tbody>\n",
       "</table>\n",
       "</div>"
      ],
      "text/plain": [
       "   STATEFP    STATE STATEABBREVIATION  YEAR  INDICATOR  VALUE\n",
       "0        1  Alabama                AL  2005  op_rel_ed    NaN\n",
       "1        1  Alabama                AL  2006  op_rel_ed    NaN\n",
       "2        1  Alabama                AL  2007  op_rel_ed    NaN\n",
       "3        1  Alabama                AL  2008  op_rel_ed    NaN\n",
       "4        1  Alabama                AL  2009  op_rel_ed    NaN"
      ]
     },
     "execution_count": 41,
     "metadata": {},
     "output_type": "execute_result"
    }
   ],
   "source": [
    "part_d_supply.head()"
   ]
  },
  {
   "cell_type": "code",
   "execution_count": 42,
   "metadata": {},
   "outputs": [
    {
     "data": {
      "text/plain": [
       "(583, 6)"
      ]
     },
     "execution_count": 42,
     "metadata": {},
     "output_type": "execute_result"
    }
   ],
   "source": [
    "part_d_supply.shape"
   ]
  },
  {
   "cell_type": "code",
   "execution_count": 43,
   "metadata": {},
   "outputs": [],
   "source": [
    "prescriptions = pd.read_csv('data/prescriptions.csv')"
   ]
  },
  {
   "cell_type": "code",
   "execution_count": 44,
   "metadata": {},
   "outputs": [
    {
     "data": {
      "text/html": [
       "<div>\n",
       "<style scoped>\n",
       "    .dataframe tbody tr th:only-of-type {\n",
       "        vertical-align: middle;\n",
       "    }\n",
       "\n",
       "    .dataframe tbody tr th {\n",
       "        vertical-align: top;\n",
       "    }\n",
       "\n",
       "    .dataframe thead th {\n",
       "        text-align: right;\n",
       "    }\n",
       "</style>\n",
       "<table border=\"1\" class=\"dataframe\">\n",
       "  <thead>\n",
       "    <tr style=\"text-align: right;\">\n",
       "      <th></th>\n",
       "      <th>STATEFP</th>\n",
       "      <th>COUNTYFP</th>\n",
       "      <th>YEAR</th>\n",
       "      <th>INDICATOR</th>\n",
       "      <th>VALUE</th>\n",
       "      <th>STATE</th>\n",
       "      <th>STATEABBREVIATION</th>\n",
       "      <th>COUNTY</th>\n",
       "    </tr>\n",
       "  </thead>\n",
       "  <tbody>\n",
       "    <tr>\n",
       "      <th>0</th>\n",
       "      <td>1</td>\n",
       "      <td>1</td>\n",
       "      <td>2015</td>\n",
       "      <td>partD30dayrxrate</td>\n",
       "      <td>2.34</td>\n",
       "      <td>Alabama</td>\n",
       "      <td>AL</td>\n",
       "      <td>Autauga County</td>\n",
       "    </tr>\n",
       "    <tr>\n",
       "      <th>1</th>\n",
       "      <td>1</td>\n",
       "      <td>3</td>\n",
       "      <td>2015</td>\n",
       "      <td>partD30dayrxrate</td>\n",
       "      <td>2.56</td>\n",
       "      <td>Alabama</td>\n",
       "      <td>AL</td>\n",
       "      <td>Baldwin County</td>\n",
       "    </tr>\n",
       "    <tr>\n",
       "      <th>2</th>\n",
       "      <td>1</td>\n",
       "      <td>5</td>\n",
       "      <td>2015</td>\n",
       "      <td>partD30dayrxrate</td>\n",
       "      <td>1.46</td>\n",
       "      <td>Alabama</td>\n",
       "      <td>AL</td>\n",
       "      <td>Barbour County</td>\n",
       "    </tr>\n",
       "    <tr>\n",
       "      <th>3</th>\n",
       "      <td>1</td>\n",
       "      <td>7</td>\n",
       "      <td>2015</td>\n",
       "      <td>partD30dayrxrate</td>\n",
       "      <td>0.39</td>\n",
       "      <td>Alabama</td>\n",
       "      <td>AL</td>\n",
       "      <td>Bibb County</td>\n",
       "    </tr>\n",
       "    <tr>\n",
       "      <th>4</th>\n",
       "      <td>1</td>\n",
       "      <td>9</td>\n",
       "      <td>2015</td>\n",
       "      <td>partD30dayrxrate</td>\n",
       "      <td>1.22</td>\n",
       "      <td>Alabama</td>\n",
       "      <td>AL</td>\n",
       "      <td>Blount County</td>\n",
       "    </tr>\n",
       "  </tbody>\n",
       "</table>\n",
       "</div>"
      ],
      "text/plain": [
       "   STATEFP  COUNTYFP  YEAR         INDICATOR  VALUE    STATE  \\\n",
       "0        1         1  2015  partD30dayrxrate   2.34  Alabama   \n",
       "1        1         3  2015  partD30dayrxrate   2.56  Alabama   \n",
       "2        1         5  2015  partD30dayrxrate   1.46  Alabama   \n",
       "3        1         7  2015  partD30dayrxrate   0.39  Alabama   \n",
       "4        1         9  2015  partD30dayrxrate   1.22  Alabama   \n",
       "\n",
       "  STATEABBREVIATION          COUNTY  \n",
       "0                AL  Autauga County  \n",
       "1                AL  Baldwin County  \n",
       "2                AL  Barbour County  \n",
       "3                AL     Bibb County  \n",
       "4                AL   Blount County  "
      ]
     },
     "execution_count": 44,
     "metadata": {},
     "output_type": "execute_result"
    }
   ],
   "source": [
    "prescriptions.head()"
   ]
  },
  {
   "cell_type": "code",
   "execution_count": 56,
   "metadata": {},
   "outputs": [
    {
     "data": {
      "text/plain": [
       "(3220, 8)"
      ]
     },
     "execution_count": 56,
     "metadata": {},
     "output_type": "execute_result"
    }
   ],
   "source": [
    "prescriptions.shape"
   ]
  },
  {
   "cell_type": "code",
   "execution_count": 57,
   "metadata": {},
   "outputs": [
    {
     "data": {
      "text/plain": [
       "STATEFP               0\n",
       "COUNTYFP              0\n",
       "YEAR                  0\n",
       "INDICATOR             0\n",
       "VALUE                97\n",
       "STATE                 0\n",
       "STATEABBREVIATION     0\n",
       "COUNTY                0\n",
       "dtype: int64"
      ]
     },
     "execution_count": 57,
     "metadata": {},
     "output_type": "execute_result"
    }
   ],
   "source": [
    "prescriptions.isna().sum()"
   ]
  },
  {
   "cell_type": "code",
   "execution_count": null,
   "metadata": {},
   "outputs": [],
   "source": []
  }
 ],
 "metadata": {
  "kernelspec": {
   "display_name": "Python 3",
   "language": "python",
   "name": "python3"
  },
  "language_info": {
   "codemirror_mode": {
    "name": "ipython",
    "version": 3
   },
   "file_extension": ".py",
   "mimetype": "text/x-python",
   "name": "python",
   "nbconvert_exporter": "python",
   "pygments_lexer": "ipython3",
   "version": "3.6.8"
  }
 },
 "nbformat": 4,
 "nbformat_minor": 2
}
